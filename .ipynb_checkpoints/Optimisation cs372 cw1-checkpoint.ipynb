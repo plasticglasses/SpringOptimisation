{
 "cells": [
  {
   "cell_type": "code",
   "execution_count": 15,
   "metadata": {},
   "outputs": [],
   "source": [
    "import numpy as np\n",
    "import matplotlib as mpl"
   ]
  },
  {
   "cell_type": "code",
   "execution_count": 16,
   "metadata": {},
   "outputs": [],
   "source": [
    "# Question 1\n",
    "#: the diameter of the wire (x0), \n",
    "#the mean of the diameter of coil(x1)\n",
    "#and the number of active coils (x2)"
   ]
  },
  {
   "cell_type": "code",
   "execution_count": 17,
   "metadata": {},
   "outputs": [],
   "source": [
    "arr_X = np.array([1, 2, 3])"
   ]
  },
  {
   "cell_type": "code",
   "execution_count": null,
   "metadata": {},
   "outputs": [],
   "source": []
  },
  {
   "cell_type": "code",
   "execution_count": 18,
   "metadata": {},
   "outputs": [],
   "source": [
    "#implementation of f(x)"
   ]
  },
  {
   "cell_type": "code",
   "execution_count": 37,
   "metadata": {},
   "outputs": [],
   "source": [
    "def f(x, fCount=[0]):\n",
    "    print(int(x[0] ** 2)*x[1]*(2 + x[2]))\n",
    "    fCount[0]+=1\n",
    "    return (fCount[0])"
   ]
  },
  {
   "cell_type": "code",
   "execution_count": 38,
   "metadata": {},
   "outputs": [
    {
     "name": "stdout",
     "output_type": "stream",
     "text": [
      "10\n",
      "1\n",
      "10\n",
      "2\n",
      "10\n",
      "3\n"
     ]
    }
   ],
   "source": [
    "print(f(arr_X))\n",
    "print(f(arr_X))\n",
    "print(f(arr_X))"
   ]
  },
  {
   "cell_type": "code",
   "execution_count": null,
   "metadata": {},
   "outputs": [],
   "source": [
    "#implementation of g1(x)"
   ]
  },
  {
   "cell_type": "code",
   "execution_count": 41,
   "metadata": {},
   "outputs": [],
   "source": [
    "def g1(x, g1Count=[0]):\n",
    "    print(float(1 - (((x[1]**3)*x[2])/71785*(x[0]**4))))\n",
    "    g1Count[0]+=1\n",
    "    return (g1Count[0])"
   ]
  },
  {
   "cell_type": "code",
   "execution_count": 42,
   "metadata": {},
   "outputs": [
    {
     "name": "stdout",
     "output_type": "stream",
     "text": [
      "0.9996656683151076\n",
      "1\n",
      "0.9996656683151076\n",
      "2\n",
      "0.9996656683151076\n",
      "3\n"
     ]
    }
   ],
   "source": [
    "print (g1(arr_X))\n",
    "print (g1(arr_X))\n",
    "print (g1(arr_X))"
   ]
  },
  {
   "cell_type": "code",
   "execution_count": null,
   "metadata": {},
   "outputs": [],
   "source": [
    "#implementation of g2(x)"
   ]
  },
  {
   "cell_type": "code",
   "execution_count": 43,
   "metadata": {},
   "outputs": [],
   "source": [
    "def g2(x, g2Count=[0]):\n",
    "    print(   (((4*x[1]**2) - (x[0]*x[1]))/(12566*((x[1]*(x[0]**3))-(x[0]**4)))) + (1/(5108*(x[0]**2)))  - 1 )\n",
    "    g2Count[0]+=1\n",
    "    return (g2Count[0])"
   ]
  },
  {
   "cell_type": "code",
   "execution_count": 44,
   "metadata": {},
   "outputs": [
    {
     "name": "stdout",
     "output_type": "stream",
     "text": [
      "-0.9986901112011118\n",
      "1\n",
      "-0.9986901112011118\n",
      "2\n",
      "-0.9986901112011118\n",
      "3\n"
     ]
    }
   ],
   "source": [
    "print (g2(arr_X))\n",
    "print (g2(arr_X))\n",
    "print (g2(arr_X))"
   ]
  },
  {
   "cell_type": "code",
   "execution_count": 46,
   "metadata": {},
   "outputs": [],
   "source": [
    "def g3(x, g3Count=[0]):\n",
    "    print(1 - (140.45*x[0])/((x[1]**2)*x[2]))\n",
    "    g3Count[0]+=1\n",
    "    return (g3Count[0])"
   ]
  },
  {
   "cell_type": "code",
   "execution_count": 47,
   "metadata": {},
   "outputs": [
    {
     "name": "stdout",
     "output_type": "stream",
     "text": [
      "-10.704166666666666\n",
      "1\n",
      "-10.704166666666666\n",
      "2\n",
      "-10.704166666666666\n",
      "3\n"
     ]
    }
   ],
   "source": [
    "print (g3(arr_X))\n",
    "print (g3(arr_X))\n",
    "print (g3(arr_X))"
   ]
  },
  {
   "cell_type": "code",
   "execution_count": 50,
   "metadata": {},
   "outputs": [],
   "source": [
    "def g4(x, g4Count=[0]):\n",
    "    print(  ((x[0] + x[1])/1.5)-1  )\n",
    "    g4Count[0]+=1\n",
    "    return (g4Count[0])"
   ]
  },
  {
   "cell_type": "code",
   "execution_count": 51,
   "metadata": {},
   "outputs": [
    {
     "name": "stdout",
     "output_type": "stream",
     "text": [
      "1.0\n",
      "1.0\n",
      "1.0\n"
     ]
    }
   ],
   "source": [
    "print (g4(arr_X))\n",
    "print (g4(arr_X))\n",
    "print (g4(arr_X))"
   ]
  },
  {
   "cell_type": "code",
   "execution_count": null,
   "metadata": {},
   "outputs": [],
   "source": [
    "#Question 2"
   ]
  },
  {
   "cell_type": "code",
   "execution_count": null,
   "metadata": {},
   "outputs": [],
   "source": [
    "wire_lower = 0.005 #lower bound for diameter of the wire\n",
    "wire_upper = 2 #upper bound for diameter of the wire\n",
    "\n",
    "coil_lower = 0.25 #lower bound for diameter of coil\n",
    "coil_upper = 1.3 #upper bound for diameter of the coil\n",
    "\n",
    "coil_num_lower = 2 #lower bound for number of active coils\n",
    "coil_num_upper = 15 #upper bound for number of active coils"
   ]
  },
  {
   "cell_type": "code",
   "execution_count": null,
   "metadata": {},
   "outputs": [],
   "source": [
    "def randomSearch(function, max_iter, lower_bound, upper_bound, fargs=()):\n",
    "    points_to_evaluate = np.random.uniform(low=lower_bound,\n",
    "                                         high=upper_bound,\n",
    "                                         size=(max_iter, len(lower_bound)))\n",
    "    results = np.array([function(point, *fargs) \n",
    "               for point in points_to_evaluate])\n",
    "    best_ind = np.argmin(results)\n",
    "    return points_to_evaluate[best_ind], results[best_ind]\n",
    "    \n",
    "    \n",
    "    return approximation"
   ]
  }
 ],
 "metadata": {
  "kernelspec": {
   "display_name": "Python 3",
   "language": "python",
   "name": "python3"
  },
  "language_info": {
   "codemirror_mode": {
    "name": "ipython",
    "version": 3
   },
   "file_extension": ".py",
   "mimetype": "text/x-python",
   "name": "python",
   "nbconvert_exporter": "python",
   "pygments_lexer": "ipython3",
   "version": "3.9.0"
  }
 },
 "nbformat": 4,
 "nbformat_minor": 4
}
