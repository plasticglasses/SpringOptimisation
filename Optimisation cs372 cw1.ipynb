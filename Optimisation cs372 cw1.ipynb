{
 "cells": [
  {
   "cell_type": "markdown",
   "metadata": {},
   "source": [
    "# Documentation\n",
    "\n",
    "# Question 1 \n",
    "\n",
    "I chose Simmulated Annealing as a stochastic optimiser for Task 3 \n",
    "\n",
    "# Question 2 Why did you choose this optimiser?\n",
    "\n",
    "The spring relies on multiple variables making the graphical image of what the data might look like very complex, this means \n",
    "we cannot just choose a simple algorithm to optimise the problem and a stochastic approach would be beneficial.\n",
    "Simulated annealing allows distortion to be added to the data set to avoid getting stuck at a local minima,\n",
    "this normally allows a good optimal to be found. Simulated annealing works better with continuous function approximation \n",
    "than GA algorithms. As f(x) is a continuous function this makes simulated annealing the better option that should be implemented\n",
    "to solve this problem. [99 words]\n",
    "\n",
    "# Question 3 What constraint handling method(s) are you using and why?\n",
    "\n",
    "To handle the inequality constraints of g1 to g4 and to keep all the simulated annealing points within the feasible space I\n",
    "have used death penalties. Any combinations of values (x1, x2, x3) that do not pass g1 to g4 are rejected as these would \n",
    "produce an f(x) outside of the feasible region and take up more computational power than necessary.\n",
    "\n",
    "I have made use of adaptive penalities when checking that my random points generated for simulated annealing are within\n",
    "the feasible region. In my \"distort\" method, infeasible parameters are rejected in suit of a more fitting value.\n"
   ]
  },
  {
   "cell_type": "code",
   "execution_count": 2,
   "metadata": {},
   "outputs": [],
   "source": [
    "import numpy as np\n",
    "import matplotlib as mpl\n",
    "import math\n",
    "import random"
   ]
  },
  {
   "cell_type": "code",
   "execution_count": 4,
   "metadata": {},
   "outputs": [],
   "source": [
    "arr_X = np.array([1, 2, 3])"
   ]
  },
  {
   "cell_type": "markdown",
   "metadata": {},
   "source": [
    "# Task 1 implementation of f(x)\n",
    "Question 1\n",
    "\n",
    ": the diameter of the wire (x0), \n",
    "the mean of the diameter of coil(x1)\n",
    "and the number of active coils (x2)"
   ]
  },
  {
   "cell_type": "code",
   "execution_count": 53,
   "metadata": {},
   "outputs": [],
   "source": [
    "def f(x, fCount=[0]):\n",
    "    fun = float(x[0] ** 2)*x[1]*(2 + x[2])\n",
    "#     print(fun)\n",
    "    fCount[0]+=1\n",
    "    return [fun, fCount[0]]\n",
    "\n",
    "def g1(x, g1Count=[0]):\n",
    "    g1Count[0]+=1\n",
    "    fun = float(1 - (((x[1]**3)*x[2])/(71785*(x[0]**4))))\n",
    "    if ( fun <= 0) :\n",
    "        return [True, g1Count[0]]\n",
    "    else:\n",
    "        return [False, g1Count[0]]\n",
    "    \n",
    "def g2(x, g2Count=[0]):\n",
    "    fun = (   (((4*x[1]**2) - (x[0]*x[1]))/(12566*((x[1]*(x[0]**3))-(x[0]**4)))) + (1/(5108*(x[0]**2)))  - 1 )\n",
    "    g2Count[0]+=1\n",
    "    if fun <= 0:\n",
    "        return[True, g2Count[0]]\n",
    "    else:\n",
    "        return[False, g2Count[0]]\n",
    "    \n",
    "def g3(x, g3Count=[0]):\n",
    "    fun = (1 - (140.45*x[0])/((x[1]**2)*x[2]))\n",
    "    g3Count[0]+=1\n",
    "    if fun <= 0:   \n",
    "        return[True, g3Count[0]]\n",
    "    else:\n",
    "        return[False, g3Count[0]]\n",
    "    \n",
    "def g4(x, g4Count=[0]):\n",
    "    fun = (  ((x[0] + x[1])/1.5)-1  )\n",
    "    g4Count[0]+=1\n",
    "    if fun <= 0:   \n",
    "        return[True, g4Count[0]]\n",
    "    else:\n",
    "        return[False, g4Count[0]]\n",
    "    "
   ]
  },
  {
   "cell_type": "code",
   "execution_count": 54,
   "metadata": {},
   "outputs": [
    {
     "name": "stdout",
     "output_type": "stream",
     "text": [
      "[10.0, 1]\n",
      "[10.0, 2]\n",
      "[10.0, 3]\n",
      "[False, 1]\n",
      "[False, 2]\n",
      "[False, 3]\n",
      "[True, 1]\n",
      "[True, 2]\n",
      "[True, 3]\n",
      "[True, 1]\n",
      "[True, 2]\n",
      "[True, 3]\n",
      "[False, 1]\n",
      "[False, 2]\n",
      "[False, 3]\n"
     ]
    }
   ],
   "source": [
    "print(f(arr_X))\n",
    "print(f(arr_X))\n",
    "print(f(arr_X))\n",
    "\n",
    "print (g1(arr_X))\n",
    "print (g1(arr_X))\n",
    "print (g1(arr_X))\n",
    "\n",
    "print (g2(arr_X))\n",
    "print (g2(arr_X))\n",
    "print (g2(arr_X))\n",
    "\n",
    "print (g3(arr_X))\n",
    "print (g3(arr_X))\n",
    "print (g3(arr_X))\n",
    "\n",
    "print (g4(arr_X))\n",
    "print (g4(arr_X))\n",
    "print (g4(arr_X))  "
   ]
  },
  {
   "cell_type": "markdown",
   "metadata": {},
   "source": [
    "# Task 2 - Random Search"
   ]
  },
  {
   "cell_type": "code",
   "execution_count": 9,
   "metadata": {},
   "outputs": [],
   "source": [
    "wire_lower = 0.005 #lower bound for diameter of the wire\n",
    "wire_upper = 2 #upper bound for diameter of the wire\n",
    "\n",
    "coil_lower = 0.25 #lower bound for diameter of coil\n",
    "coil_upper = 1.3 #upper bound for diameter of the coil\n",
    "\n",
    "coil_num_lower = 2 #lower bound for number of active coils\n",
    "coil_num_upper = 15 #upper bound for number of active coils"
   ]
  },
  {
   "cell_type": "code",
   "execution_count": 10,
   "metadata": {},
   "outputs": [],
   "source": [
    "def generate_random_array():\n",
    "    #generate random number \n",
    "    x0 = np.random.uniform(low=0.05, high=2) #hightest + 1\n",
    "    x1 = np.random.uniform(low=0.25, high=1.3) #hightest + 1\n",
    "    x2 = np.random.uniform(low=2, high=15) #hightest + 1\n",
    "    \n",
    "    return np.array([x0, x1, x2])\n",
    "    "
   ]
  },
  {
   "cell_type": "code",
   "execution_count": 11,
   "metadata": {},
   "outputs": [],
   "source": [
    "def is_feasible(array):\n",
    "    feasible = False\n",
    "    g1_arr=g1(array)\n",
    "    g2_arr=g2(array)\n",
    "    g3_arr=g3(array)\n",
    "    g4_arr=g4(array)\n",
    "\n",
    "#     print(g1_arr)\n",
    "#     print(g2_arr)\n",
    "#     print(g3_arr)\n",
    "#     print(g4_arr)\n",
    "\n",
    "    if g1_arr[0] and g2_arr[0] and g3_arr[0] and g4_arr[0] :\n",
    "        feasible = True\n",
    "    else:\n",
    "        feasible = False\n",
    "    return feasible\n",
    "    "
   ]
  },
  {
   "cell_type": "code",
   "execution_count": 43,
   "metadata": {},
   "outputs": [],
   "source": [
    "def random_search(best_fx, best_x):\n",
    "    \n",
    "    arr_x = generate_feasible_random_array()\n",
    "    \n",
    "    fx = f(arr_x)\n",
    "    if fx < best_fx:\n",
    "        best_x = np.array([arr_x[0], arr_x[1], arr_x[2]])\n",
    "#             print(\"best replaced\")\n",
    "            \n",
    "    return best_x"
   ]
  },
  {
   "cell_type": "code",
   "execution_count": 13,
   "metadata": {},
   "outputs": [],
   "source": [
    "def generate_feasible_random_array():\n",
    "    array = generate_random_array()\n",
    "    feasible = is_feasible(array)\n",
    "    while not feasible:\n",
    "        array = generate_random_array()\n",
    "        feasible = is_feasible(array)\n",
    "    return array"
   ]
  },
  {
   "cell_type": "code",
   "execution_count": 35,
   "metadata": {},
   "outputs": [
    {
     "name": "stdout",
     "output_type": "stream",
     "text": [
      "best replaced\n",
      "best replaced\n",
      "best replaced\n",
      "best replaced\n",
      "best replaced\n",
      "best replaced\n",
      "best replaced\n",
      "best replaced\n",
      "best replaced\n",
      "best replaced\n",
      "best replaced\n",
      "best replaced\n",
      "best replaced\n",
      "best replaced\n",
      "best replaced\n",
      "[0.07781197 1.07485155 4.63471085]\n",
      "[0.08776751214390238, 21237]\n"
     ]
    }
   ],
   "source": [
    "best_x = generate_feasible_random_array()\n",
    "best_fx = f(best_x)\n",
    "\n",
    "for x in range(0, 3000):\n",
    "    best_x = random_search(best_fx, best_x)\n",
    "print(best_x)\n",
    "print(best_fx)\n",
    "#print(arr_X)\n",
    "\n",
    "#myArray = np.array(arrX)\n",
    "#print(myArray)\n",
    "\n",
    "# test = np.array([1, 2, 3])\n",
    "#print (g1(arr_X))\n",
    "# # #def searching(arr_X, best_X, best_fx):\n",
    "\n"
   ]
  },
  {
   "cell_type": "markdown",
   "metadata": {},
   "source": [
    "# Task 3 - Simulated Annealing"
   ]
  },
  {
   "cell_type": "code",
   "execution_count": 25,
   "metadata": {},
   "outputs": [],
   "source": [
    "def distort(array):\n",
    "    x0 = array[0]\n",
    "    x1 = array[1]\n",
    "    x2 = array[2]\n",
    "    \n",
    "    x0_new = 1000 #not feasible to begin with\n",
    "    x1_new = 1000 #not feasible to begin with\n",
    "    x2_new = 1000 #not feasible to begin with\n",
    "    \n",
    "    while not is_feasible(np.array([x0_new, x1, x2])):\n",
    "        x0_new = np.random.normal(x0, 1)\n",
    "#     print(\"i did go here\")\n",
    "    \n",
    "    while not is_feasible(np.array([x0_new, x1_new, x2])):\n",
    "        x1_new = np.random.normal(x1,1)\n",
    "#     print(\"i did go here\")\n",
    "    \n",
    "    while not is_feasible(np.array([x0_new, x1_new, x2_new])):\n",
    "        x2_new = np.random.normal(x2,1)\n",
    "#     print(\"i did go here\")\n",
    "   # print(str(x0_new) + \" \" + str(x1_new) + \" \" + str(x2_new))\n",
    "        \n",
    "    return [x0_new, x1_new, x2_new]"
   ]
  },
  {
   "cell_type": "code",
   "execution_count": 16,
   "metadata": {},
   "outputs": [
    {
     "name": "stdout",
     "output_type": "stream",
     "text": [
      "[ 0.06217621  0.6116375  13.77427171]\n",
      "[0.07643947804634851, 0.6641843061020776, 15.252171576092781]\n"
     ]
    }
   ],
   "source": [
    "#test of distort method\n",
    "start_values_array = generate_feasible_random_array()\n",
    "print(start_values_array)\n",
    "print(distort(start_values_array))"
   ]
  },
  {
   "cell_type": "markdown",
   "metadata": {},
   "source": [
    "#to get minimum fx\n",
    "#aka the energy\n",
    "#when system goes through change of configuratioj we have to calculate delta e, change in energy\n",
    "\n",
    "#how do we chnge te configuration - randomly change the configuration c, making a move\n",
    "\n",
    "#temperature start with max temp and then slowly decreases to t min\n",
    "\n",
    "#for every value of temperature \n",
    "    #compute energy \n",
    "    #change config and get energy of new config\n",
    "    #calculate change in energy \n",
    "    #if change in e is -ve\n",
    "        #accept the move\n",
    "    #else if\n",
    "        #the closer we get to the end of the cycle, the less likely we are to accept bad decisions\n",
    "        #compute prob e^ change in e/temperature > rand(0,1)\n",
    "        #accept the move\n",
    "#step 1 random \n",
    "\n",
    "#step 2 more careful"
   ]
  },
  {
   "cell_type": "code",
   "execution_count": 52,
   "metadata": {},
   "outputs": [
    {
     "name": "stdout",
     "output_type": "stream",
     "text": [
      "lets start at random [0.09605392 1.13423223 5.66568352]\n",
      "best fx so far [0.08022007180640169, 66276]\n",
      "new delta e in the house by merit 3000 [0.05497235141029398, 66277]\n",
      "new delta e in the house by merit 2999 [0.04551906347845674, 66278]\n",
      "new delta e in the house by merit 2987 [0.037515633328764404, 66290]\n",
      "new delta e in the house by merit 2866 [0.037509611587081715, 66411]\n",
      "new delta e in the house by merit 2809 [0.03652251963193848, 66468]\n",
      "new delta e in the house by merit 2777 [0.03072928307615155, 66500]\n",
      "new delta e in the house by merit 2563 [0.0307175957428365, 66714]\n",
      "new delta e in the house by merit 2530 [0.030264409662449757, 66747]\n",
      "new delta e in the house by merit 2452 [0.02921610562995828, 66825]\n",
      "new delta e in the house by probability1731 [0.08429822264862964, 67546]\n",
      "new delta e in the house by merit 1730 [0.06787143526811963, 67547]\n",
      "new delta e in the house by merit 1727 [0.05799031489324072, 67550]\n",
      "new delta e in the house by merit 1724 [0.03886401013588322, 67553]\n",
      "new delta e in the house by merit 1676 [0.03254333575437424, 67601]\n",
      "new delta e in the house by merit 1621 [0.03144084744776403, 67656]\n",
      "new delta e in the house by merit 1233 [0.02988079226560088, 68044]\n",
      "new delta e in the house by probability773 [0.10074067567461246, 68504]\n",
      "new delta e in the house by merit 772 [0.09461528632441539, 68505]\n",
      "new delta e in the house by merit 771 [0.05852127862973123, 68506]\n",
      "new delta e in the house by merit 761 [0.03349701492199548, 68516]\n",
      "new delta e in the house by merit 635 [0.033177747593486004, 68642]\n",
      "new delta e in the house by probability627 [0.07648688485843937, 68650]\n",
      "new delta e in the house by merit 625 [0.04677490692211495, 68652]\n",
      "new delta e in the house by merit 624 [0.03741923544355884, 68653]\n",
      "new delta e in the house by merit 612 [0.031162476387758715, 68665]\n",
      "new delta e in the house by merit 570 [0.030172424439064507, 68707]\n",
      "new delta e in the house by probability111 [0.08604633496518885, 69166]\n",
      "new delta e in the house by merit 109 [0.07257420725824507, 69168]\n",
      "new delta e in the house by merit 107 [0.06868039831453548, 69170]\n",
      "new delta e in the house by merit 106 [0.061360260707382625, 69171]\n",
      "new delta e in the house by merit 104 [0.057938070958957796, 69173]\n",
      "new delta e in the house by merit 103 [0.0435033486274079, 69174]\n",
      "new delta e in the house by merit 82 [0.03771124888065529, 69195]\n",
      "new delta e in the house by merit 63 [0.0364922810527161, 69214]\n",
      "new delta e in the house by merit 38 [0.03051163520088528, 69239]\n",
      "new delta e in the house by probability33 [0.09522001238649806, 69244]\n",
      "new delta e in the house by merit 32 [0.0731090740299531, 69245]\n",
      "new delta e in the house by merit 31 [0.06585105126890364, 69246]\n",
      "new delta e in the house by merit 29 [0.04268221513480383, 69248]\n",
      "new delta e in the house by probability3 [0.07172819086047474, 69274]\n",
      "new delta e in the house by merit 2 [0.06649411810256924, 69275]\n",
      "new delta e in the house by probability1 [0.09524385754076072, 69276]\n",
      "finished\n"
     ]
    }
   ],
   "source": [
    "start_values_array = generate_feasible_random_array()\n",
    "print(\"lets start at random \" + str(start_values_array))\n",
    "best_fx = f(start_values_array)\n",
    "print(\"best fx so far \" + str(best_fx))\n",
    "\n",
    "#for every value of temperature \n",
    "#do for number of iterations\n",
    "temp_max = 3000\n",
    "temp_min = 0\n",
    "for t in range(temp_max, temp_min, -1):\n",
    "#     print(t)\n",
    "    \n",
    "    #new config\n",
    "#     print(\"finding neighboring set of values to compare\")\n",
    "    new_neighbours = distort(start_values_array)\n",
    "#     print(new_neighbours)\n",
    "    new_fx = f(new_neighbours)\n",
    "    \n",
    "    #calculae change in energy\n",
    "#     print(\"finding delta e\")\n",
    "    delta_fx = new_fx[0] - best_fx[0]\n",
    "#     print(str(new_fx) + \" \" + str(best_fx))\n",
    "    \n",
    "    if delta_fx < 0:\n",
    "        print(\"new delta e in the house by merit \" + str(t) +\" \" + str(new_fx))\n",
    "        best_fx = new_fx\n",
    "        #print(\"I was bested\")\n",
    "    elif (math.exp(delta_fx/t) > random.uniform(1, 1.05)):\n",
    "        print(\"new delta e in the house by probability\" + str(t) +\" \" + str(new_fx))\n",
    "        best_fx = new_fx\n",
    "        #print(math.exp(delta_fx/t))\n",
    "#     print(math.exp(delta_fx/t))\n",
    "print(\"finished\")\n",
    "    "
   ]
  },
  {
   "cell_type": "code",
   "execution_count": null,
   "metadata": {},
   "outputs": [],
   "source": [
    "#task 4\n",
    "\n",
    "#random search\n",
    "best_x = generate_feasible_random_array()\n",
    "best_fx = f(best_x)\n",
    "\n",
    "for x in range(0, 21):\n",
    "    while \n",
    "    best_x = random_search(best_fx, best_x)\n",
    "print(best_x)\n",
    "print(best_fx)\n"
   ]
  }
 ],
 "metadata": {
  "kernelspec": {
   "display_name": "Python 3",
   "language": "python",
   "name": "python3"
  },
  "language_info": {
   "codemirror_mode": {
    "name": "ipython",
    "version": 3
   },
   "file_extension": ".py",
   "mimetype": "text/x-python",
   "name": "python",
   "nbconvert_exporter": "python",
   "pygments_lexer": "ipython3",
   "version": "3.9.0"
  }
 },
 "nbformat": 4,
 "nbformat_minor": 4
}
