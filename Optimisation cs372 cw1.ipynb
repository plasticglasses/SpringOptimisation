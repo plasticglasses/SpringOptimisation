{
 "cells": [
  {
   "cell_type": "code",
   "execution_count": 1,
   "metadata": {},
   "outputs": [
    {
     "ename": "SyntaxError",
     "evalue": "invalid syntax (<ipython-input-1-799f4078e3cc>, line 2)",
     "output_type": "error",
     "traceback": [
      "\u001b[1;36m  File \u001b[1;32m\"<ipython-input-1-799f4078e3cc>\"\u001b[1;36m, line \u001b[1;32m2\u001b[0m\n\u001b[1;33m    Question 1 Which stochastic optimiser did you choose for Task 3\u001b[0m\n\u001b[1;37m             ^\u001b[0m\n\u001b[1;31mSyntaxError\u001b[0m\u001b[1;31m:\u001b[0m invalid syntax\n"
     ]
    }
   ],
   "source": [
    "Documentation \n",
    "Question 1 Which stochastic optimiser did you choose for Task 3\n",
    "\n",
    "Simmulated Annealing\n",
    "\n",
    "Question 2 Why did you choose this optimiser?\n",
    "\n",
    "There were multiple variables making the optimisation complex\n",
    "\n",
    "Question 3 What constraint handling method(s) are you using and why?"
   ]
  },
  {
   "cell_type": "code",
   "execution_count": 2,
   "metadata": {},
   "outputs": [],
   "source": [
    "import numpy as np\n",
    "import matplotlib as mpl\n",
    "import math\n",
    "import random"
   ]
  },
  {
   "cell_type": "code",
   "execution_count": 3,
   "metadata": {},
   "outputs": [],
   "source": [
    "# Question 1\n",
    "#: the diameter of the wire (x0), \n",
    "#the mean of the diameter of coil(x1)\n",
    "#and the number of active coils (x2)"
   ]
  },
  {
   "cell_type": "code",
   "execution_count": 4,
   "metadata": {},
   "outputs": [],
   "source": [
    "arr_X = np.array([1, 2, 3])"
   ]
  },
  {
   "cell_type": "code",
   "execution_count": 5,
   "metadata": {},
   "outputs": [],
   "source": [
    "#implementation of f(x)"
   ]
  },
  {
   "cell_type": "code",
   "execution_count": 6,
   "metadata": {},
   "outputs": [
    {
     "name": "stdout",
     "output_type": "stream",
     "text": [
      "[10.0, 1]\n",
      "[10.0, 2]\n",
      "[10.0, 3]\n",
      "[False, 1]\n",
      "[False, 2]\n",
      "[False, 3]\n",
      "[True, 1]\n",
      "[True, 2]\n",
      "[True, 3]\n",
      "[True, 1]\n",
      "[True, 2]\n",
      "[True, 3]\n",
      "[False, 1]\n",
      "[False, 2]\n",
      "[False, 3]\n"
     ]
    }
   ],
   "source": [
    "def f(x, fCount=[0]):\n",
    "    fun = float(x[0] ** 2)*x[1]*(2 + x[2])\n",
    "#     print(fun)\n",
    "    fCount[0]+=1\n",
    "    return [fun, fCount[0]]\n",
    "\n",
    "def g1(x, g1Count=[0]):\n",
    "    g1Count[0]+=1\n",
    "    fun = float(1 - (((x[1]**3)*x[2])/(71785*(x[0]**4))))\n",
    "    if ( fun <= 0) :\n",
    "        return [True, g1Count[0]]\n",
    "    else:\n",
    "        return [False, g1Count[0]]\n",
    "    \n",
    "def g2(x, g2Count=[0]):\n",
    "    fun = (   (((4*x[1]**2) - (x[0]*x[1]))/(12566*((x[1]*(x[0]**3))-(x[0]**4)))) + (1/(5108*(x[0]**2)))  - 1 )\n",
    "    g2Count[0]+=1\n",
    "    if fun <= 0:\n",
    "        return[True, g2Count[0]]\n",
    "    else:\n",
    "        return[False, g2Count[0]]\n",
    "    \n",
    "def g3(x, g3Count=[0]):\n",
    "    fun = (1 - (140.45*x[0])/((x[1]**2)*x[2]))\n",
    "    g3Count[0]+=1\n",
    "    if fun <= 0:   \n",
    "        return[True, g3Count[0]]\n",
    "    else:\n",
    "        return[False, g3Count[0]]\n",
    "    \n",
    "def g4(x, g4Count=[0]):\n",
    "    fun = (  ((x[0] + x[1])/1.5)-1  )\n",
    "    g4Count[0]+=1\n",
    "    if fun <= 0:   \n",
    "        return[True, g4Count[0]]\n",
    "    else:\n",
    "        return[False, g4Count[0]]\n",
    "    \n",
    "    \n",
    "print(f(arr_X))\n",
    "print(f(arr_X))\n",
    "print(f(arr_X))\n",
    "\n",
    "print (g1(arr_X))\n",
    "print (g1(arr_X))\n",
    "print (g1(arr_X))\n",
    "\n",
    "print (g2(arr_X))\n",
    "print (g2(arr_X))\n",
    "print (g2(arr_X))\n",
    "\n",
    "print (g3(arr_X))\n",
    "print (g3(arr_X))\n",
    "print (g3(arr_X))\n",
    "\n",
    "print (g4(arr_X))\n",
    "print (g4(arr_X))\n",
    "print (g4(arr_X))  "
   ]
  },
  {
   "cell_type": "code",
   "execution_count": 7,
   "metadata": {},
   "outputs": [
    {
     "name": "stdout",
     "output_type": "stream",
     "text": [
      "[10.0, 4]\n",
      "[10.0, 5]\n",
      "[10.0, 6]\n"
     ]
    }
   ],
   "source": [
    "print(f(arr_X))\n",
    "print(f(arr_X))\n",
    "print(f(arr_X))"
   ]
  },
  {
   "cell_type": "code",
   "execution_count": 8,
   "metadata": {},
   "outputs": [],
   "source": [
    "#Question 2"
   ]
  },
  {
   "cell_type": "code",
   "execution_count": 9,
   "metadata": {},
   "outputs": [],
   "source": [
    "wire_lower = 0.005 #lower bound for diameter of the wire\n",
    "wire_upper = 2 #upper bound for diameter of the wire\n",
    "\n",
    "coil_lower = 0.25 #lower bound for diameter of coil\n",
    "coil_upper = 1.3 #upper bound for diameter of the coil\n",
    "\n",
    "coil_num_lower = 2 #lower bound for number of active coils\n",
    "coil_num_upper = 15 #upper bound for number of active coils"
   ]
  },
  {
   "cell_type": "code",
   "execution_count": 10,
   "metadata": {},
   "outputs": [],
   "source": [
    "def generate_random_array():\n",
    "    #generate random number \n",
    "    x0 = np.random.uniform(low=0.05, high=2) #hightest + 1\n",
    "    x1 = np.random.uniform(low=0.25, high=1.3) #hightest + 1\n",
    "    x2 = np.random.uniform(low=2, high=15) #hightest + 1\n",
    "    \n",
    "    return np.array([x0, x1, x2])\n",
    "    "
   ]
  },
  {
   "cell_type": "code",
   "execution_count": 11,
   "metadata": {},
   "outputs": [],
   "source": [
    "def is_feasible(array):\n",
    "    feasible = False\n",
    "    g1_arr=g1(array)\n",
    "    g2_arr=g2(array)\n",
    "    g3_arr=g3(array)\n",
    "    g4_arr=g4(array)\n",
    "\n",
    "#     print(g1_arr)\n",
    "#     print(g2_arr)\n",
    "#     print(g3_arr)\n",
    "#     print(g4_arr)\n",
    "\n",
    "    if g1_arr[0] and g2_arr[0] and g3_arr[0] and g4_arr[0] :\n",
    "        feasible = True\n",
    "    else:\n",
    "        feasible = False\n",
    "    return feasible\n",
    "    "
   ]
  },
  {
   "cell_type": "code",
   "execution_count": 12,
   "metadata": {},
   "outputs": [],
   "source": [
    "def random_search(best_fx, best_x):\n",
    "    \n",
    "    arr_x = generate_random_array()\n",
    "    #print(arr_x)\n",
    "    #print(is_feasible(arr_x))\n",
    "    if is_feasible(arr_x):\n",
    "        fx = f(arr_x)\n",
    "        if fx < best_fx:\n",
    "            best_x = np.array([arr_x[0], arr_x[1], arr_x[2]])\n",
    "            print(\"best replaced\")\n",
    "            \n",
    "    return best_x"
   ]
  },
  {
   "cell_type": "code",
   "execution_count": 13,
   "metadata": {},
   "outputs": [],
   "source": [
    "def generate_feasible_random_array():\n",
    "    array = generate_random_array()\n",
    "    feasible = is_feasible(array)\n",
    "    while not feasible:\n",
    "        array = generate_random_array()\n",
    "        feasible = is_feasible(array)\n",
    "    return array"
   ]
  },
  {
   "cell_type": "code",
   "execution_count": 29,
   "metadata": {},
   "outputs": [
    {
     "name": "stdout",
     "output_type": "stream",
     "text": [
      "best replaced\n",
      "best replaced\n",
      "best replaced\n",
      "best replaced\n",
      "best replaced\n",
      "best replaced\n",
      "best replaced\n",
      "best replaced\n",
      "best replaced\n",
      "best replaced\n",
      "best replaced\n",
      "best replaced\n",
      "best replaced\n",
      "best replaced\n",
      "best replaced\n",
      "best replaced\n",
      "best replaced\n",
      "best replaced\n",
      "best replaced\n",
      "[ 0.06579861  0.55531866 12.83916709]\n",
      "[13.901159259527285, 21104]\n"
     ]
    }
   ],
   "source": [
    "best_x = generate_random_array()\n",
    "best_fx = f(best_x)\n",
    "\n",
    "for x in range(0, 3000):\n",
    "    best_x = random_search(best_fx, best_x)\n",
    "print(best_x)\n",
    "print(best_fx)\n",
    "#print(arr_X)\n",
    "\n",
    "#myArray = np.array(arrX)\n",
    "#print(myArray)\n",
    "\n",
    "# test = np.array([1, 2, 3])\n",
    "#print (g1(arr_X))\n",
    "# # #def searching(arr_X, best_X, best_fx):\n",
    "\n"
   ]
  },
  {
   "cell_type": "code",
   "execution_count": 25,
   "metadata": {},
   "outputs": [],
   "source": [
    "def distort(array):\n",
    "    x0 = array[0]\n",
    "    x1 = array[1]\n",
    "    x2 = array[2]\n",
    "    \n",
    "    x0_new = 1000 #not feasible to begin with\n",
    "    x1_new = 1000 #not feasible to begin with\n",
    "    x2_new = 1000 #not feasible to begin with\n",
    "    \n",
    "    while not is_feasible(np.array([x0_new, x1, x2])):\n",
    "        x0_new = np.random.normal(x0, 1)\n",
    "#     print(\"i did go here\")\n",
    "    \n",
    "    while not is_feasible(np.array([x0_new, x1_new, x2])):\n",
    "        x1_new = np.random.normal(x1,1)\n",
    "#     print(\"i did go here\")\n",
    "    \n",
    "    while not is_feasible(np.array([x0_new, x1_new, x2_new])):\n",
    "        x2_new = np.random.normal(x2,1)\n",
    "#     print(\"i did go here\")\n",
    "   # print(str(x0_new) + \" \" + str(x1_new) + \" \" + str(x2_new))\n",
    "        \n",
    "    return [x0_new, x1_new, x2_new]"
   ]
  },
  {
   "cell_type": "code",
   "execution_count": 16,
   "metadata": {},
   "outputs": [
    {
     "name": "stdout",
     "output_type": "stream",
     "text": [
      "[ 0.06217621  0.6116375  13.77427171]\n",
      "[0.07643947804634851, 0.6641843061020776, 15.252171576092781]\n"
     ]
    }
   ],
   "source": [
    "start_values_array = generate_feasible_random_array()\n",
    "print(start_values_array)\n",
    "print(distort(start_values_array))"
   ]
  },
  {
   "cell_type": "code",
   "execution_count": 17,
   "metadata": {},
   "outputs": [],
   "source": [
    "#Question 3\n",
    "\n",
    "#aim \n",
    "#to get minimum fx\n",
    "#aka the energy\n",
    "#when system goes through change of configuratioj we have to calculate delta e, change in energy\n",
    "\n",
    "#how do we chnge te configuration - randomly change the configuration c, making a move\n",
    "\n",
    "#temperature start with max temp and then slowly decreases to t min\n",
    "\n",
    "#for every value of temperature \n",
    "    #compute energy \n",
    "    #change config and get energy of new config\n",
    "    #calculate change in energy \n",
    "    #if change in e is -ve\n",
    "        #accept the move\n",
    "    #else if\n",
    "        #the closer we get to the end of the cycle, the less likely we are to accept bad decisions\n",
    "        #compute prob e^ change in e/temperature > rand(0,1)\n",
    "        #accept the move\n",
    "#step 1 random \n",
    "\n",
    "#step 2 more careful"
   ]
  },
  {
   "cell_type": "code",
   "execution_count": 27,
   "metadata": {},
   "outputs": [
    {
     "name": "stdout",
     "output_type": "stream",
     "text": [
      "lets start at random [0.06916575 0.90657619 3.45982033]\n",
      "best fx so far [0.023679083789688932, 18087]\n",
      "new delta e in the house by merit 3000 [0.030410400385094037, 18088]\n",
      "new delta e in the house by merit 2999 [0.043174058847020635, 18089]\n",
      "new delta e in the house by merit 2988 [0.04609984727503637, 18100]\n",
      "new delta e in the house by merit 2921 [0.04660377221640052, 18167]\n",
      "new delta e in the house by merit 2903 [0.047047444578143534, 18185]\n",
      "new delta e in the house by merit 2877 [0.047194616546797706, 18211]\n",
      "new delta e in the house by merit 2844 [0.05176327340922674, 18244]\n",
      "new delta e in the house by merit 2711 [0.05862427195363002, 18377]\n",
      "finished\n"
     ]
    }
   ],
   "source": [
    "start_values_array = generate_feasible_random_array()\n",
    "print(\"lets start at random \" + str(start_values_array))\n",
    "best_fx = f(start_values_array)\n",
    "print(\"best fx so far \" + str(best_fx))\n",
    "\n",
    "#do for number of iterations\n",
    "temp_max = 3000\n",
    "temp_min = 0\n",
    "for t in range(temp_max, temp_min, -1):\n",
    "#     print(t)\n",
    "    \n",
    "    #new config\n",
    "#     print(\"finding neighboring set of values to compare\")\n",
    "    new_neighbours = distort(start_values_array)\n",
    "#     print(new_neighbours)\n",
    "    new_fx = f(new_neighbours)\n",
    "    \n",
    "    #calculae change in energy\n",
    "#     print(\"finding delta e\")\n",
    "    delta_fx = best_fx[0] - new_fx[0]\n",
    "    \n",
    "    if delta_fx < 0:\n",
    "        print(\"new delta e in the house by merit \" + str(t) +\" \" + str(new_fx))\n",
    "        best_fx = new_fx\n",
    "        #print(\"I was bested\")\n",
    "    elif (math.exp(delta_fx/t) < random.uniform(0, 1)):\n",
    "        print(\"new delta e in the house by probability\" + str(t) +\" \" + str(new_fx))\n",
    "        best_fx = new_fx\n",
    "        #print(math.exp(delta_fx/t))\n",
    "        \n",
    "print(\"finished\")\n",
    "    "
   ]
  },
  {
   "cell_type": "code",
   "execution_count": null,
   "metadata": {},
   "outputs": [],
   "source": []
  },
  {
   "cell_type": "code",
   "execution_count": null,
   "metadata": {},
   "outputs": [],
   "source": []
  },
  {
   "cell_type": "code",
   "execution_count": null,
   "metadata": {},
   "outputs": [],
   "source": []
  }
 ],
 "metadata": {
  "kernelspec": {
   "display_name": "Python 3",
   "language": "python",
   "name": "python3"
  },
  "language_info": {
   "codemirror_mode": {
    "name": "ipython",
    "version": 3
   },
   "file_extension": ".py",
   "mimetype": "text/x-python",
   "name": "python",
   "nbconvert_exporter": "python",
   "pygments_lexer": "ipython3",
   "version": "3.9.0"
  }
 },
 "nbformat": 4,
 "nbformat_minor": 4
}
