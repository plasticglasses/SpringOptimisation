{
 "cells": [
  {
   "cell_type": "code",
   "execution_count": 136,
   "metadata": {},
   "outputs": [],
   "source": [
    "import numpy as np\n",
    "import matplotlib as mpl"
   ]
  },
  {
   "cell_type": "code",
   "execution_count": 137,
   "metadata": {},
   "outputs": [],
   "source": [
    "# Question 1\n",
    "#: the diameter of the wire (x0), \n",
    "#the mean of the diameter of coil(x1)\n",
    "#and the number of active coils (x2)"
   ]
  },
  {
   "cell_type": "code",
   "execution_count": 138,
   "metadata": {},
   "outputs": [],
   "source": [
    "arr_X = np.array([1, 2, 3])"
   ]
  },
  {
   "cell_type": "code",
   "execution_count": null,
   "metadata": {},
   "outputs": [],
   "source": []
  },
  {
   "cell_type": "code",
   "execution_count": 139,
   "metadata": {},
   "outputs": [],
   "source": [
    "#implementation of f(x)"
   ]
  },
  {
   "cell_type": "code",
   "execution_count": 140,
   "metadata": {},
   "outputs": [],
   "source": [
    "def f(x, fCount=[0]):\n",
    "    fun = int(x[0] ** 2)*x[1]*(2 + x[2])\n",
    "    fCount[0]+=1\n",
    "    return [fun, fCount[0]]"
   ]
  },
  {
   "cell_type": "code",
   "execution_count": 141,
   "metadata": {},
   "outputs": [
    {
     "name": "stdout",
     "output_type": "stream",
     "text": [
      "[10, 1]\n",
      "[10, 2]\n",
      "[10, 3]\n"
     ]
    }
   ],
   "source": [
    "print(f(arr_X))\n",
    "print(f(arr_X))\n",
    "print(f(arr_X))"
   ]
  },
  {
   "cell_type": "code",
   "execution_count": 142,
   "metadata": {},
   "outputs": [],
   "source": [
    "#implementation of g1(x)"
   ]
  },
  {
   "cell_type": "code",
   "execution_count": 143,
   "metadata": {},
   "outputs": [],
   "source": [
    "def g1(x, g1Count=[0]):\n",
    "    g1Count[0]+=1\n",
    "    fun = float(1 - (((x[1]**3)*x[2])/71785*(x[0]**4)))\n",
    "    if ( fun <= 0) :\n",
    "        return [True, g1Count[0]]\n",
    "    else:\n",
    "        return [False, g1Count[0]]\n",
    "    \n",
    "    "
   ]
  },
  {
   "cell_type": "code",
   "execution_count": 144,
   "metadata": {},
   "outputs": [
    {
     "name": "stdout",
     "output_type": "stream",
     "text": [
      "[False, 1]\n",
      "[False, 2]\n",
      "[False, 3]\n"
     ]
    }
   ],
   "source": [
    "print (g1(arr_X))\n",
    "print (g1(arr_X))\n",
    "print (g1(arr_X))"
   ]
  },
  {
   "cell_type": "code",
   "execution_count": 78,
   "metadata": {},
   "outputs": [],
   "source": [
    "#implementation of g2(x)"
   ]
  },
  {
   "cell_type": "code",
   "execution_count": 79,
   "metadata": {},
   "outputs": [],
   "source": [
    "def g2(x, g2Count=[0]):\n",
    "    fun = (   (((4*x[1]**2) - (x[0]*x[1]))/(12566*((x[1]*(x[0]**3))-(x[0]**4)))) + (1/(5108*(x[0]**2)))  - 1 )\n",
    "    g2Count[0]+=1\n",
    "    if fun <= 0:\n",
    "        return[True, g2Count[0]]\n",
    "    else:\n",
    "        return[False, g2Count[0]]"
   ]
  },
  {
   "cell_type": "code",
   "execution_count": 80,
   "metadata": {},
   "outputs": [
    {
     "name": "stdout",
     "output_type": "stream",
     "text": [
      "[True, 1]\n",
      "[True, 2]\n",
      "[True, 3]\n"
     ]
    }
   ],
   "source": [
    "print (g2(arr_X))\n",
    "print (g2(arr_X))\n",
    "print (g2(arr_X))"
   ]
  },
  {
   "cell_type": "code",
   "execution_count": 153,
   "metadata": {},
   "outputs": [],
   "source": [
    "def g3(x, g3Count=[0]):\n",
    "    fun = (1 - (140.45*x[0])/((x[1]**2)*x[2]))\n",
    "    g3Count[0]+=1\n",
    "    if fun <= 0:   \n",
    "        return[True, g3Count[0]]\n",
    "    else:\n",
    "        return[False, g3Count[0]]\n",
    "  "
   ]
  },
  {
   "cell_type": "code",
   "execution_count": 154,
   "metadata": {},
   "outputs": [
    {
     "name": "stdout",
     "output_type": "stream",
     "text": [
      "[True, 1]\n",
      "[True, 2]\n",
      "[True, 3]\n"
     ]
    }
   ],
   "source": [
    "print (g3(arr_X))\n",
    "print (g3(arr_X))\n",
    "print (g3(arr_X))"
   ]
  },
  {
   "cell_type": "code",
   "execution_count": 83,
   "metadata": {},
   "outputs": [],
   "source": [
    "def g4(x, g4Count=[0]):\n",
    "    fun = (  ((x[0] + x[1])/1.5)-1  )\n",
    "    g4Count[0]+=1\n",
    "    if fun <= 0:   \n",
    "        return[True, g4Count[0]]\n",
    "    else:\n",
    "        return[False, g4Count[0]]"
   ]
  },
  {
   "cell_type": "code",
   "execution_count": 84,
   "metadata": {},
   "outputs": [
    {
     "name": "stdout",
     "output_type": "stream",
     "text": [
      "[False, 1]\n",
      "[False, 2]\n",
      "[False, 3]\n"
     ]
    }
   ],
   "source": [
    "print (g4(arr_X))\n",
    "print (g4(arr_X))\n",
    "print (g4(arr_X))"
   ]
  },
  {
   "cell_type": "code",
   "execution_count": 85,
   "metadata": {},
   "outputs": [],
   "source": [
    "#Question 2"
   ]
  },
  {
   "cell_type": "code",
   "execution_count": 88,
   "metadata": {},
   "outputs": [],
   "source": [
    "wire_lower = 0.005 #lower bound for diameter of the wire\n",
    "wire_upper = 2 #upper bound for diameter of the wire\n",
    "\n",
    "coil_lower = 0.25 #lower bound for diameter of coil\n",
    "coil_upper = 1.3 #upper bound for diameter of the coil\n",
    "\n",
    "coil_num_lower = 2 #lower bound for number of active coils\n",
    "coil_num_upper = 15 #upper bound for number of active coils"
   ]
  },
  {
   "cell_type": "code",
   "execution_count": 117,
   "metadata": {},
   "outputs": [],
   "source": [
    "def random_search():\n",
    "    #generate random number \n",
    "    x0 = np.random.uniform(low=0.05, high=2) #hightest + 1\n",
    "    x1 = np.random.uniform(low=0.25, high=1.3) #hightest + 1\n",
    "    x2 = np.random.uniform(low=2, high=15) #hightest + 1\n",
    "    \n",
    "    return np.array([x0, x1, x2])\n",
    "    "
   ]
  },
  {
   "cell_type": "code",
   "execution_count": 152,
   "metadata": {},
   "outputs": [
    {
     "ename": "TypeError",
     "evalue": "'list' object is not callable",
     "output_type": "error",
     "traceback": [
      "\u001b[1;31m---------------------------------------------------------------------------\u001b[0m",
      "\u001b[1;31mTypeError\u001b[0m                                 Traceback (most recent call last)",
      "\u001b[1;32m<ipython-input-152-d54a39947165>\u001b[0m in \u001b[0;36m<module>\u001b[1;34m\u001b[0m\n\u001b[1;32m----> 1\u001b[1;33m \u001b[0mprint\u001b[0m \u001b[1;33m(\u001b[0m\u001b[0mg3\u001b[0m\u001b[1;33m(\u001b[0m\u001b[0marr_X\u001b[0m\u001b[1;33m)\u001b[0m\u001b[1;33m)\u001b[0m\u001b[1;33m\u001b[0m\u001b[1;33m\u001b[0m\u001b[0m\n\u001b[0m\u001b[0;32m      2\u001b[0m \u001b[0mprint\u001b[0m \u001b[1;33m(\u001b[0m\u001b[0mg3\u001b[0m\u001b[1;33m(\u001b[0m\u001b[0marr_X\u001b[0m\u001b[1;33m)\u001b[0m\u001b[1;33m)\u001b[0m\u001b[1;33m\u001b[0m\u001b[1;33m\u001b[0m\u001b[0m\n\u001b[0;32m      3\u001b[0m \u001b[0mprint\u001b[0m \u001b[1;33m(\u001b[0m\u001b[0mg3\u001b[0m\u001b[1;33m(\u001b[0m\u001b[0marr_X\u001b[0m\u001b[1;33m)\u001b[0m\u001b[1;33m)\u001b[0m\u001b[1;33m\u001b[0m\u001b[1;33m\u001b[0m\u001b[0m\n",
      "\u001b[1;31mTypeError\u001b[0m: 'list' object is not callable"
     ]
    }
   ],
   "source": [
    "print (g3(arr_X))\n",
    "print (g3(arr_X))\n",
    "print (g3(arr_X))"
   ]
  },
  {
   "cell_type": "code",
   "execution_count": 151,
   "metadata": {},
   "outputs": [
    {
     "ename": "TypeError",
     "evalue": "'list' object is not callable",
     "output_type": "error",
     "traceback": [
      "\u001b[1;31m---------------------------------------------------------------------------\u001b[0m",
      "\u001b[1;31mTypeError\u001b[0m                                 Traceback (most recent call last)",
      "\u001b[1;32m<ipython-input-151-2e3ea7c55da5>\u001b[0m in \u001b[0;36m<module>\u001b[1;34m\u001b[0m\n\u001b[1;32m----> 1\u001b[1;33m \u001b[0mprint\u001b[0m \u001b[1;33m(\u001b[0m\u001b[0mg1\u001b[0m\u001b[1;33m(\u001b[0m\u001b[0marr_X\u001b[0m\u001b[1;33m)\u001b[0m\u001b[1;33m)\u001b[0m\u001b[1;33m\u001b[0m\u001b[1;33m\u001b[0m\u001b[0m\n\u001b[0m\u001b[0;32m      2\u001b[0m \u001b[1;33m\u001b[0m\u001b[0m\n\u001b[0;32m      3\u001b[0m \u001b[0mbest_X\u001b[0m \u001b[1;33m=\u001b[0m \u001b[0mnp\u001b[0m\u001b[1;33m.\u001b[0m\u001b[0marray\u001b[0m\u001b[1;33m(\u001b[0m\u001b[1;33m[\u001b[0m\u001b[1;36m1\u001b[0m\u001b[1;33m,\u001b[0m\u001b[1;36m2\u001b[0m\u001b[1;33m,\u001b[0m\u001b[1;36m3\u001b[0m\u001b[1;33m]\u001b[0m\u001b[1;33m)\u001b[0m\u001b[1;33m\u001b[0m\u001b[1;33m\u001b[0m\u001b[0m\n\u001b[0;32m      4\u001b[0m \u001b[0mbest_fx\u001b[0m \u001b[1;33m=\u001b[0m \u001b[0mf\u001b[0m\u001b[1;33m(\u001b[0m\u001b[0mbest_X\u001b[0m\u001b[1;33m)\u001b[0m\u001b[1;33m\u001b[0m\u001b[1;33m\u001b[0m\u001b[0m\n\u001b[0;32m      5\u001b[0m \u001b[1;33m\u001b[0m\u001b[0m\n",
      "\u001b[1;31mTypeError\u001b[0m: 'list' object is not callable"
     ]
    }
   ],
   "source": [
    "best_X = np.array([1,2,3])\n",
    "best_fx = f(best_X)\n",
    "\n",
    "arr_X = random_search()\n",
    "print(arr_X)\n",
    "\n",
    "myArray = np.array(arrX)\n",
    "print(myArray)\n",
    "\n",
    "arr_X = np.array([1, 2, 3])\n",
    "print (g1(arr_X))\n",
    "# # #def searching(arr_X, best_X, best_fx):\n",
    "g1=g1([1,2,3])\n",
    "g2=g2(myArray)\n",
    "g3=g3(myArray)\n",
    "g4=g4(myArray)\n",
    "    \n",
    "# print(g1(arr_X))\n",
    "# print(g2(arr_X))\n",
    "# print(g3(arr_X))\n",
    "# print(g4(arr_X))\n",
    "\n",
    "# if g1[0] and g2[0] and g3[0] and g4[0] :\n",
    "#     fx = f(arr_X)\n",
    "#     if fx < bestFX:\n",
    "#         best_X = np.array([arr_X[0], arr_X[1], arr_X[2]])\n",
    "#         print(\"best replaced\")\n"
   ]
  },
  {
   "cell_type": "raw",
   "metadata": {},
   "source": []
  },
  {
   "cell_type": "code",
   "execution_count": null,
   "metadata": {},
   "outputs": [],
   "source": []
  },
  {
   "cell_type": "code",
   "execution_count": null,
   "metadata": {},
   "outputs": [],
   "source": []
  }
 ],
 "metadata": {
  "kernelspec": {
   "display_name": "Python 3",
   "language": "python",
   "name": "python3"
  },
  "language_info": {
   "codemirror_mode": {
    "name": "ipython",
    "version": 3
   },
   "file_extension": ".py",
   "mimetype": "text/x-python",
   "name": "python",
   "nbconvert_exporter": "python",
   "pygments_lexer": "ipython3",
   "version": "3.9.0"
  }
 },
 "nbformat": 4,
 "nbformat_minor": 4
}
