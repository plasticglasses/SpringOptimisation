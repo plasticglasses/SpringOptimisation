{
 "cells": [
  {
   "cell_type": "code",
   "execution_count": 1,
   "metadata": {},
   "outputs": [],
   "source": [
    "import numpy as np\n",
    "import matplotlib as mpl"
   ]
  },
  {
   "cell_type": "code",
   "execution_count": 2,
   "metadata": {},
   "outputs": [],
   "source": [
    "# Question 1\n",
    "#: the diameter of the wire (x0), \n",
    "#the mean of the diameter of coil(x1)\n",
    "#and the number of active coils (x2)"
   ]
  },
  {
   "cell_type": "code",
   "execution_count": 3,
   "metadata": {},
   "outputs": [],
   "source": [
    "arr_X = np.array([1, 2, 3])"
   ]
  },
  {
   "cell_type": "code",
   "execution_count": null,
   "metadata": {},
   "outputs": [],
   "source": []
  },
  {
   "cell_type": "code",
   "execution_count": 4,
   "metadata": {},
   "outputs": [],
   "source": [
    "#implementation of f(x)"
   ]
  },
  {
   "cell_type": "code",
   "execution_count": 5,
   "metadata": {},
   "outputs": [],
   "source": [
    "def f(x, fCount=[0]):\n",
    "    fun = int(x[0] ** 2)*x[1]*(2 + x[2])\n",
    "    fCount[0]+=1\n",
    "    return [fun, fCount[0]]"
   ]
  },
  {
   "cell_type": "code",
   "execution_count": 6,
   "metadata": {},
   "outputs": [
    {
     "name": "stdout",
     "output_type": "stream",
     "text": [
      "[10, 1]\n",
      "[10, 2]\n",
      "[10, 3]\n"
     ]
    }
   ],
   "source": [
    "print(f(arr_X))\n",
    "print(f(arr_X))\n",
    "print(f(arr_X))"
   ]
  },
  {
   "cell_type": "code",
   "execution_count": 7,
   "metadata": {},
   "outputs": [],
   "source": [
    "#implementation of g1(x)"
   ]
  },
  {
   "cell_type": "code",
   "execution_count": 8,
   "metadata": {},
   "outputs": [],
   "source": [
    "def g1(x, g1Count=[0]):\n",
    "    g1Count[0]+=1\n",
    "    fun = float(1 - (((x[1]**3)*x[2])/(71785*(x[0]**4))))\n",
    "    if ( fun <= 0) :\n",
    "        return [True, g1Count[0]]\n",
    "    else:\n",
    "        return [False, g1Count[0]]\n",
    "    \n",
    "    "
   ]
  },
  {
   "cell_type": "code",
   "execution_count": 9,
   "metadata": {},
   "outputs": [
    {
     "name": "stdout",
     "output_type": "stream",
     "text": [
      "[False, 1]\n",
      "[False, 2]\n",
      "[False, 3]\n"
     ]
    }
   ],
   "source": [
    "print (g1(arr_X))\n",
    "print (g1(arr_X))\n",
    "print (g1(arr_X))"
   ]
  },
  {
   "cell_type": "code",
   "execution_count": 10,
   "metadata": {},
   "outputs": [],
   "source": [
    "#implementation of g2(x)"
   ]
  },
  {
   "cell_type": "code",
   "execution_count": 11,
   "metadata": {},
   "outputs": [],
   "source": [
    "def g2(x, g2Count=[0]):\n",
    "    fun = (   (((4*x[1]**2) - (x[0]*x[1]))/(12566*((x[1]*(x[0]**3))-(x[0]**4)))) + (1/(5108*(x[0]**2)))  - 1 )\n",
    "    g2Count[0]+=1\n",
    "    if fun <= 0:\n",
    "        return[True, g2Count[0]]\n",
    "    else:\n",
    "        return[False, g2Count[0]]"
   ]
  },
  {
   "cell_type": "code",
   "execution_count": 12,
   "metadata": {},
   "outputs": [
    {
     "name": "stdout",
     "output_type": "stream",
     "text": [
      "[True, 1]\n",
      "[True, 2]\n",
      "[True, 3]\n"
     ]
    }
   ],
   "source": [
    "print (g2(arr_X))\n",
    "print (g2(arr_X))\n",
    "print (g2(arr_X))"
   ]
  },
  {
   "cell_type": "code",
   "execution_count": 13,
   "metadata": {},
   "outputs": [],
   "source": [
    "def g3(x, g3Count=[0]):\n",
    "    fun = (1 - (140.45*x[0])/((x[1]**2)*x[2]))\n",
    "    g3Count[0]+=1\n",
    "    if fun <= 0:   \n",
    "        return[True, g3Count[0]]\n",
    "    else:\n",
    "        return[False, g3Count[0]]\n",
    "  "
   ]
  },
  {
   "cell_type": "code",
   "execution_count": 14,
   "metadata": {},
   "outputs": [
    {
     "name": "stdout",
     "output_type": "stream",
     "text": [
      "[True, 1]\n",
      "[True, 2]\n",
      "[True, 3]\n"
     ]
    }
   ],
   "source": [
    "print (g3(arr_X))\n",
    "print (g3(arr_X))\n",
    "print (g3(arr_X))"
   ]
  },
  {
   "cell_type": "code",
   "execution_count": 15,
   "metadata": {},
   "outputs": [],
   "source": [
    "def g4(x, g4Count=[0]):\n",
    "    fun = (  ((x[0] + x[1])/1.5)-1  )\n",
    "    g4Count[0]+=1\n",
    "    if fun <= 0:   \n",
    "        return[True, g4Count[0]]\n",
    "    else:\n",
    "        return[False, g4Count[0]]"
   ]
  },
  {
   "cell_type": "code",
   "execution_count": 16,
   "metadata": {},
   "outputs": [
    {
     "name": "stdout",
     "output_type": "stream",
     "text": [
      "[False, 1]\n",
      "[False, 2]\n",
      "[False, 3]\n"
     ]
    }
   ],
   "source": [
    "print (g4(arr_X))\n",
    "print (g4(arr_X))\n",
    "print (g4(arr_X))"
   ]
  },
  {
   "cell_type": "code",
   "execution_count": 17,
   "metadata": {},
   "outputs": [],
   "source": [
    "#Question 2"
   ]
  },
  {
   "cell_type": "code",
   "execution_count": 18,
   "metadata": {},
   "outputs": [],
   "source": [
    "wire_lower = 0.005 #lower bound for diameter of the wire\n",
    "wire_upper = 2 #upper bound for diameter of the wire\n",
    "\n",
    "coil_lower = 0.25 #lower bound for diameter of coil\n",
    "coil_upper = 1.3 #upper bound for diameter of the coil\n",
    "\n",
    "coil_num_lower = 2 #lower bound for number of active coils\n",
    "coil_num_upper = 15 #upper bound for number of active coils"
   ]
  },
  {
   "cell_type": "code",
   "execution_count": 19,
   "metadata": {},
   "outputs": [],
   "source": [
    "def generate_random_array():\n",
    "    #generate random number \n",
    "    x0 = np.random.uniform(low=0.05, high=2) #hightest + 1\n",
    "    x1 = np.random.uniform(low=0.25, high=1.3) #hightest + 1\n",
    "    x2 = np.random.uniform(low=2, high=15) #hightest + 1\n",
    "    \n",
    "    return np.array([x0, x1, x2])\n",
    "    "
   ]
  },
  {
   "cell_type": "code",
   "execution_count": 20,
   "metadata": {},
   "outputs": [
    {
     "name": "stdout",
     "output_type": "stream",
     "text": [
      "[True, 4]\n",
      "[True, 5]\n",
      "[True, 6]\n"
     ]
    }
   ],
   "source": [
    "print (g3(arr_X))\n",
    "print (g3(arr_X))\n",
    "print (g3(arr_X))"
   ]
  },
  {
   "cell_type": "code",
   "execution_count": 21,
   "metadata": {},
   "outputs": [],
   "source": [
    "def is_feasible(array):\n",
    "    feasible = False\n",
    "    g1_arr=g1(array)\n",
    "    g2_arr=g2(array)\n",
    "    g3_arr=g3(array)\n",
    "    g4_arr=g4(array)\n",
    "\n",
    "#     print(g1_arr)\n",
    "#     print(g2_arr)\n",
    "#     print(g3_arr)\n",
    "#     print(g4_arr)\n",
    "\n",
    "    if g1_arr[0] and g2_arr[0] and g3_arr[0] and g4_arr[0] :\n",
    "        feasible = True\n",
    "    else:\n",
    "        feasible = False\n",
    "    return feasible\n",
    "    "
   ]
  },
  {
   "cell_type": "code",
   "execution_count": 43,
   "metadata": {},
   "outputs": [],
   "source": [
    "def random_search(best_fx, best_x):\n",
    "    \n",
    "    arr_x = generate_random_array()\n",
    "    #print(arr_x)\n",
    "    #print(is_feasible(arr_x))\n",
    "    if is_feasible(arr_x):\n",
    "        fx = f(arr_x)\n",
    "        if fx < best_fx:\n",
    "            best_x = np.array([arr_x[0], arr_x[1], arr_x[2]])\n",
    "            print(\"best replaced\")\n",
    "            \n",
    "    return best_x"
   ]
  },
  {
   "cell_type": "code",
   "execution_count": 45,
   "metadata": {},
   "outputs": [
    {
     "name": "stdout",
     "output_type": "stream",
     "text": [
      "best replaced\n",
      "best replaced\n",
      "best replaced\n",
      "best replaced\n",
      "best replaced\n",
      "best replaced\n",
      "best replaced\n",
      "best replaced\n",
      "best replaced\n",
      "best replaced\n",
      "best replaced\n",
      "best replaced\n",
      "best replaced\n",
      "best replaced\n",
      "best replaced\n",
      "best replaced\n",
      "best replaced\n",
      "best replaced\n",
      "best replaced\n",
      "best replaced\n",
      "best replaced\n",
      "[ 0.063364    0.65453299 13.57687388]\n",
      "[51.342492683637545, 377]\n"
     ]
    }
   ],
   "source": [
    "best_x = generate_random_array()\n",
    "best_fx = f(best_x)\n",
    "\n",
    "for x in range(0, 3000):\n",
    "    best_x = random_search(best_fx, best_x)\n",
    "print(best_x)\n",
    "print(best_fx)\n",
    "#print(arr_X)\n",
    "\n",
    "#myArray = np.array(arrX)\n",
    "#print(myArray)\n",
    "\n",
    "# test = np.array([1, 2, 3])\n",
    "#print (g1(arr_X))\n",
    "# # #def searching(arr_X, best_X, best_fx):\n",
    "\n"
   ]
  },
  {
   "cell_type": "code",
   "execution_count": null,
   "metadata": {},
   "outputs": [],
   "source": [
    "#Question 3\n",
    "\n",
    "y = w1*x0 + w2*x1 + w3*x2\n"
   ]
  }
 ],
 "metadata": {
  "kernelspec": {
   "display_name": "Python 3",
   "language": "python",
   "name": "python3"
  },
  "language_info": {
   "codemirror_mode": {
    "name": "ipython",
    "version": 3
   },
   "file_extension": ".py",
   "mimetype": "text/x-python",
   "name": "python",
   "nbconvert_exporter": "python",
   "pygments_lexer": "ipython3",
   "version": "3.9.0"
  }
 },
 "nbformat": 4,
 "nbformat_minor": 4
}
