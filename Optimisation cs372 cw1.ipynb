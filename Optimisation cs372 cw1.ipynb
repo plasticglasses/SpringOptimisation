{
 "cells": [
  {
   "cell_type": "markdown",
   "metadata": {},
   "source": [
    "# Documentation\n",
    "\n",
    "# Question 1 \n",
    "\n",
    "I chose Simmulated Annealing as a stochastic optimiser for Task 3 \n",
    "\n",
    "# Question 2 Why did you choose this optimiser?\n",
    "\n",
    "The spring relies on multiple variables making the graphical image of what the data might look like very complex, this means \n",
    "we cannot just choose a simple algorithm to optimise the problem and a stochastic approach would be beneficial.\n",
    "Simulated annealing allows distortion to be added to the data set to avoid getting stuck at a local minima,\n",
    "this normally allows a good optimal to be found. Simulated annealing works better with continuous function approximation \n",
    "than GA algorithms. As f(x) is a continuous function this makes simulated annealing the better option that should be implemented\n",
    "to solve this problem. [99 words]\n",
    "\n",
    "# Question 3 What constraint handling method(s) are you using and why?\n",
    "\n",
    "To handle the inequality constraints of g1 to g4 and to keep all the simulated annealing points within the feasible space I\n",
    "have used death penalties. Any combinations of values (x1, x2, x3) that do not pass g1 to g4 are rejected as these would \n",
    "produce an f(x) outside of the feasible region and take up more computational power than necessary.\n",
    "\n",
    "I have made use of adaptive penalities when checking that my random points generated for simulated annealing are within\n",
    "the feasible region. In my \"distort\" method, infeasible parameters are rejected in suit of a more fitting value.\n"
   ]
  },
  {
   "cell_type": "code",
   "execution_count": 1,
   "metadata": {},
   "outputs": [],
   "source": [
    "import numpy as np\n",
    "import math\n",
    "import random\n",
    "import matplotlib as mpl\n",
    "import matplotlib.pyplot as plt "
   ]
  },
  {
   "cell_type": "code",
   "execution_count": 2,
   "metadata": {},
   "outputs": [],
   "source": [
    "arr_X = np.array([1, 2, 3])"
   ]
  },
  {
   "cell_type": "markdown",
   "metadata": {},
   "source": [
    "# Task 1 implementation of f(x)\n",
    "Question 1\n",
    "\n",
    ": the diameter of the wire (x0), \n",
    "the mean of the diameter of coil(x1)\n",
    "and the number of active coils (x2)"
   ]
  },
  {
   "cell_type": "code",
   "execution_count": 3,
   "metadata": {},
   "outputs": [],
   "source": [
    "def f(x, fCount=[0]):\n",
    "    fun = float(x[0] ** 2)*x[1]*(2 + x[2])\n",
    "#     print(fun)\n",
    "    fCount[0]+=1\n",
    "    return [fun, fCount[0]]\n",
    "\n",
    "def g1(x, g1Count=[0]):\n",
    "    g1Count[0]+=1\n",
    "    fun = float(1 - (((x[1]**3)*x[2])/(71785*(x[0]**4))))\n",
    "    if ( fun <= 0) :\n",
    "        return [True, g1Count[0]]\n",
    "    else:\n",
    "        return [False, g1Count[0]]\n",
    "    \n",
    "def g2(x, g2Count=[0]):\n",
    "    fun = (   (((4*x[1]**2) - (x[0]*x[1]))/(12566*((x[1]*(x[0]**3))-(x[0]**4)))) + (1/(5108*(x[0]**2)))  - 1 )\n",
    "    g2Count[0]+=1\n",
    "    if fun <= 0:\n",
    "        return[True, g2Count[0]]\n",
    "    else:\n",
    "        return[False, g2Count[0]]\n",
    "    \n",
    "def g3(x, g3Count=[0]):\n",
    "    fun = (1 - (140.45*x[0])/((x[1]**2)*x[2]))\n",
    "    g3Count[0]+=1\n",
    "    if fun <= 0:   \n",
    "        return[True, g3Count[0]]\n",
    "    else:\n",
    "        return[False, g3Count[0]]\n",
    "    \n",
    "def g4(x, g4Count=[0]):\n",
    "    fun = (  ((x[0] + x[1])/1.5)-1  )\n",
    "    g4Count[0]+=1\n",
    "    if fun <= 0:   \n",
    "        return[True, g4Count[0]]\n",
    "    else:\n",
    "        return[False, g4Count[0]]\n",
    "    "
   ]
  },
  {
   "cell_type": "code",
   "execution_count": 4,
   "metadata": {},
   "outputs": [
    {
     "name": "stdout",
     "output_type": "stream",
     "text": [
      "[10.0, 1]\n",
      "[10.0, 2]\n",
      "[10.0, 3]\n",
      "[False, 1]\n",
      "[False, 2]\n",
      "[False, 3]\n",
      "[True, 1]\n",
      "[True, 2]\n",
      "[True, 3]\n",
      "[True, 1]\n",
      "[True, 2]\n",
      "[True, 3]\n",
      "[False, 1]\n",
      "[False, 2]\n",
      "[False, 3]\n"
     ]
    }
   ],
   "source": [
    "print(f(arr_X))\n",
    "print(f(arr_X))\n",
    "print(f(arr_X))\n",
    "\n",
    "print (g1(arr_X))\n",
    "print (g1(arr_X))\n",
    "print (g1(arr_X))\n",
    "\n",
    "print (g2(arr_X))\n",
    "print (g2(arr_X))\n",
    "print (g2(arr_X))\n",
    "\n",
    "print (g3(arr_X))\n",
    "print (g3(arr_X))\n",
    "print (g3(arr_X))\n",
    "\n",
    "print (g4(arr_X))\n",
    "print (g4(arr_X))\n",
    "print (g4(arr_X))  "
   ]
  },
  {
   "cell_type": "markdown",
   "metadata": {},
   "source": [
    "# Task 2 - Random Search"
   ]
  },
  {
   "cell_type": "code",
   "execution_count": 5,
   "metadata": {},
   "outputs": [],
   "source": [
    "wire_lower = 0.005 #lower bound for diameter of the wire\n",
    "wire_upper = 2 #upper bound for diameter of the wire\n",
    "\n",
    "coil_lower = 0.25 #lower bound for diameter of coil\n",
    "coil_upper = 1.3 #upper bound for diameter of the coil\n",
    "\n",
    "coil_num_lower = 2 #lower bound for number of active coils\n",
    "coil_num_upper = 15 #upper bound for number of active coils"
   ]
  },
  {
   "cell_type": "code",
   "execution_count": 6,
   "metadata": {},
   "outputs": [],
   "source": [
    "def generate_random_array():\n",
    "    #generate random number \n",
    "    x0 = np.random.uniform(low=0.05, high=2) #hightest + 1\n",
    "    x1 = np.random.uniform(low=0.25, high=1.3) #hightest + 1\n",
    "    x2 = np.random.uniform(low=2, high=15) #hightest + 1\n",
    "    \n",
    "    return np.array([x0, x1, x2])\n",
    "    "
   ]
  },
  {
   "cell_type": "code",
   "execution_count": 7,
   "metadata": {},
   "outputs": [],
   "source": [
    "def is_feasible(array):\n",
    "    feasible = False\n",
    "    g1_arr=g1(array)\n",
    "    g2_arr=g2(array)\n",
    "    g3_arr=g3(array)\n",
    "    g4_arr=g4(array)\n",
    "\n",
    "#     print(g1_arr)\n",
    "#     print(g2_arr)\n",
    "#     print(g3_arr)\n",
    "#     print(g4_arr)\n",
    "\n",
    "    if g1_arr[0] and g2_arr[0] and g3_arr[0] and g4_arr[0] :\n",
    "        feasible = True\n",
    "    else:\n",
    "        feasible = False\n",
    "    return feasible\n",
    "    "
   ]
  },
  {
   "cell_type": "code",
   "execution_count": 8,
   "metadata": {},
   "outputs": [],
   "source": [
    "def random_search(best_fx, best_x):\n",
    "    \n",
    "    arr_x = generate_feasible_random_array()\n",
    "    \n",
    "    fx = f(arr_x)\n",
    "    if fx < best_fx:\n",
    "        best_x = np.array([arr_x[0], arr_x[1], arr_x[2]])\n",
    "#             print(\"best replaced\")\n",
    "            \n",
    "    return best_x"
   ]
  },
  {
   "cell_type": "code",
   "execution_count": 9,
   "metadata": {},
   "outputs": [],
   "source": [
    "def generate_feasible_random_array():\n",
    "    array = generate_random_array()\n",
    "    feasible = is_feasible(array)\n",
    "    while not feasible:\n",
    "        array = generate_random_array()\n",
    "        feasible = is_feasible(array)\n",
    "    return array"
   ]
  },
  {
   "cell_type": "code",
   "execution_count": 10,
   "metadata": {},
   "outputs": [
    {
     "name": "stdout",
     "output_type": "stream",
     "text": [
      "[0.07160637 0.9197573  4.06402388]\n",
      "[0.05420753148898238, 4]\n"
     ]
    }
   ],
   "source": [
    "best_x = generate_feasible_random_array()\n",
    "best_fx = f(best_x)\n",
    "\n",
    "for x in range(0, 3000):\n",
    "    best_x = random_search(best_fx, best_x)\n",
    "print(best_x)\n",
    "print(best_fx)\n",
    "#print(arr_X)\n",
    "\n",
    "#myArray = np.array(arrX)\n",
    "#print(myArray)\n",
    "\n",
    "# test = np.array([1, 2, 3])\n",
    "#print (g1(arr_X))\n",
    "# # #def searching(arr_X, best_X, best_fx):\n",
    "\n"
   ]
  },
  {
   "cell_type": "markdown",
   "metadata": {},
   "source": [
    "# Task 3 - Simulated Annealing"
   ]
  },
  {
   "cell_type": "code",
   "execution_count": 11,
   "metadata": {},
   "outputs": [],
   "source": [
    "def distort(array):\n",
    "    x0 = array[0]\n",
    "    x1 = array[1]\n",
    "    x2 = array[2]\n",
    "    \n",
    "    x0_new = 1000 #not feasible to begin with\n",
    "    x1_new = 1000 #not feasible to begin with\n",
    "    x2_new = 1000 #not feasible to begin with\n",
    "    \n",
    "    while not is_feasible(np.array([x0_new, x1, x2])):\n",
    "        x0_new = np.random.normal(x0, 1)\n",
    "#     print(\"i did go here\")\n",
    "    \n",
    "    while not is_feasible(np.array([x0_new, x1_new, x2])):\n",
    "        x1_new = np.random.normal(x1,1)\n",
    "#     print(\"i did go here\")\n",
    "    \n",
    "    while not is_feasible(np.array([x0_new, x1_new, x2_new])):\n",
    "        x2_new = np.random.normal(x2,1)\n",
    "#     print(\"i did go here\")\n",
    "   # print(str(x0_new) + \" \" + str(x1_new) + \" \" + str(x2_new))\n",
    "        \n",
    "    return [x0_new, x1_new, x2_new]"
   ]
  },
  {
   "cell_type": "code",
   "execution_count": 12,
   "metadata": {},
   "outputs": [
    {
     "name": "stdout",
     "output_type": "stream",
     "text": [
      "[0.06839918 0.75704601 9.70797181]\n",
      "[0.0680443128683636, 0.8214926328747297, 10.074786362337004]\n"
     ]
    }
   ],
   "source": [
    "#test of distort method\n",
    "start_values_array = generate_feasible_random_array()\n",
    "print(start_values_array)\n",
    "print(distort(start_values_array))"
   ]
  },
  {
   "cell_type": "markdown",
   "metadata": {},
   "source": [
    "#to get minimum fx\n",
    "#aka the energy\n",
    "#when system goes through change of configuratioj we have to calculate delta e, change in energy\n",
    "\n",
    "#how do we chnge te configuration - randomly change the configuration c, making a move\n",
    "\n",
    "#temperature start with max temp and then slowly decreases to t min\n",
    "\n",
    "#for every value of temperature \n",
    "    #compute energy \n",
    "    #change config and get energy of new config\n",
    "    #calculate change in energy \n",
    "    #if change in e is -ve\n",
    "        #accept the move\n",
    "    #else if\n",
    "        #the closer we get to the end of the cycle, the less likely we are to accept bad decisions\n",
    "        #compute prob e^ change in e/temperature > rand(0,1)\n",
    "        #accept the move\n",
    "#step 1 random \n",
    "\n",
    "#step 2 more careful"
   ]
  },
  {
   "cell_type": "code",
   "execution_count": 13,
   "metadata": {},
   "outputs": [
    {
     "name": "stdout",
     "output_type": "stream",
     "text": [
      "lets start at random [ 0.11685528  1.0912085  11.53944481]\n",
      "best fx so far [0.20174615349143404, 3005]\n",
      "new delta e in the house by merit 3000 [0.12828111824271124, 3006]\n",
      "new delta e in the house by merit 2999 [0.12327827938003585, 3007]\n",
      "new delta e in the house by merit 2991 [0.11323833736038758, 3015]\n",
      "new delta e in the house by merit 2868 [0.10929608000374558, 3138]\n",
      "new delta e in the house by merit 2744 [0.09913069848909492, 3262]\n",
      "new delta e in the house by probability1803 [0.17068602325001245, 4203]\n",
      "new delta e in the house by merit 1802 [0.13202705504116297, 4204]\n",
      "new delta e in the house by merit 1801 [0.12802552083183008, 4205]\n",
      "new delta e in the house by merit 1798 [0.12743770920051384, 4208]\n",
      "new delta e in the house by merit 1793 [0.12300358333500606, 4213]\n",
      "new delta e in the house by merit 1765 [0.12074525697879336, 4241]\n",
      "new delta e in the house by merit 1758 [0.11413505053573386, 4248]\n",
      "new delta e in the house by merit 1676 [0.11125076020496237, 4330]\n",
      "new delta e in the house by merit 1611 [0.11115228534339495, 4395]\n",
      "new delta e in the house by merit 1598 [0.10299896262750786, 4408]\n",
      "new delta e in the house by probability905 [0.17047435810721956, 5101]\n",
      "new delta e in the house by merit 904 [0.12241381225222171, 5102]\n",
      "new delta e in the house by merit 860 [0.12165656602474444, 5146]\n",
      "new delta e in the house by merit 840 [0.11958533573184377, 5166]\n",
      "new delta e in the house by merit 826 [0.1113675349408529, 5180]\n",
      "new delta e in the house by merit 710 [0.10486309220111571, 5296]\n",
      "new delta e in the house by probability84 [0.15202981461868126, 5922]\n",
      "new delta e in the house by merit 82 [0.10806612729853847, 5924]\n",
      "new delta e in the house by probability6 [0.18859506167718604, 6000]\n",
      "new delta e in the house by merit 4 [0.11975408194950946, 6002]\n",
      "new delta e in the house by probability2 [0.2036058634936467, 6004]\n",
      "new delta e in the house by merit 1 [0.17926717875280665, 6005]\n",
      "finished\n"
     ]
    }
   ],
   "source": [
    "start_values_array = generate_feasible_random_array()\n",
    "print(\"lets start at random \" + str(start_values_array))\n",
    "best_fx = f(start_values_array)\n",
    "print(\"best fx so far \" + str(best_fx))\n",
    "\n",
    "#for every value of temperature \n",
    "#do for number of iterations\n",
    "temp_max = 3000\n",
    "temp_min = 0\n",
    "for t in range(temp_max, temp_min, -1):\n",
    "#     print(t)\n",
    "    \n",
    "    #new config\n",
    "#     print(\"finding neighboring set of values to compare\")\n",
    "    new_neighbours = distort(start_values_array)\n",
    "#     print(new_neighbours)\n",
    "    new_fx = f(new_neighbours)\n",
    "    \n",
    "    #calculae change in energy\n",
    "#     print(\"finding delta e\")\n",
    "    delta_fx = new_fx[0] - best_fx[0]\n",
    "#     print(str(new_fx) + \" \" + str(best_fx))\n",
    "    \n",
    "    if delta_fx < 0:\n",
    "        print(\"new delta e in the house by merit \" + str(t) +\" \" + str(new_fx))\n",
    "        best_fx = new_fx\n",
    "        #print(\"I was bested\")\n",
    "    elif (math.exp(delta_fx/t) > random.uniform(1, 1.05)):\n",
    "        print(\"new delta e in the house by probability\" + str(t) +\" \" + str(new_fx))\n",
    "        best_fx = new_fx\n",
    "        #print(math.exp(delta_fx/t))\n",
    "#     print(math.exp(delta_fx/t))\n",
    "print(\"finished\")\n",
    "    "
   ]
  },
  {
   "cell_type": "markdown",
   "metadata": {},
   "source": [
    "# Task 4 - Repeations"
   ]
  },
  {
   "cell_type": "markdown",
   "metadata": {},
   "source": []
  },
  {
   "cell_type": "code",
   "execution_count": 15,
   "metadata": {},
   "outputs": [
    {
     "name": "stdout",
     "output_type": "stream",
     "text": [
      "[0.06933534 0.74116486 8.46768548]\n",
      "[0.09199194951553159, 6006]\n"
     ]
    }
   ],
   "source": [
    "#task 4\n",
    "\n",
    "#random search\n",
    "best_x = generate_feasible_random_array()\n",
    "best_fx = f(best_x)\n",
    "\n",
    "for x in range(0, 21):\n",
    "    \n",
    "    best_x = random_search(best_fx, best_x)\n",
    "print(best_x)\n",
    "print(best_fx)\n"
   ]
  },
  {
   "cell_type": "code",
   "execution_count": 18,
   "metadata": {},
   "outputs": [
    {
     "data": {
      "text/plain": [
       "{'whiskers': [<matplotlib.lines.Line2D at 0x26a4e42d880>,\n",
       "  <matplotlib.lines.Line2D at 0x26a4e42dbe0>],\n",
       " 'caps': [<matplotlib.lines.Line2D at 0x26a4e42df40>,\n",
       "  <matplotlib.lines.Line2D at 0x26a4e4392e0>],\n",
       " 'boxes': [<matplotlib.lines.Line2D at 0x26a4e42d520>],\n",
       " 'medians': [<matplotlib.lines.Line2D at 0x26a4e439640>],\n",
       " 'fliers': [<matplotlib.lines.Line2D at 0x26a4e4399a0>],\n",
       " 'means': []}"
      ]
     },
     "execution_count": 18,
     "metadata": {},
     "output_type": "execute_result"
    }
   ],
   "source": [
    "#boxplot\n",
    "import numpy as np\n",
    "import matplotlib.pyplot as plt\n",
    "\n",
    "# Fixing random state for reproducibility\n",
    "np.random.seed(19680801)\n",
    "\n",
    "# fake up some data\n",
    "spread = np.random.rand(50) * 100\n",
    "center = np.ones(25) * 50\n",
    "flier_high = np.random.rand(10) * 100 + 100\n",
    "flier_low = np.random.rand(10) * -100\n",
    "data = np.concatenate((spread, center, flier_high, flier_low))\n",
    "\n",
    "fig1, ax1 = plt.subplots()\n",
    "ax1.set_title('Basic Plot')\n",
    "ax1.boxplot(data)"
   ]
  },
  {
   "cell_type": "code",
   "execution_count": 1,
   "metadata": {},
   "outputs": [
    {
     "ename": "NameError",
     "evalue": "name 'mpl' is not defined",
     "output_type": "error",
     "traceback": [
      "\u001b[1;31m---------------------------------------------------------------------------\u001b[0m",
      "\u001b[1;31mNameError\u001b[0m                                 Traceback (most recent call last)",
      "\u001b[1;32m<ipython-input-1-2fdcaaabc630>\u001b[0m in \u001b[0;36m<module>\u001b[1;34m\u001b[0m\n\u001b[0;32m      6\u001b[0m \u001b[0mget_ipython\u001b[0m\u001b[1;33m(\u001b[0m\u001b[1;33m)\u001b[0m\u001b[1;33m.\u001b[0m\u001b[0mrun_line_magic\u001b[0m\u001b[1;33m(\u001b[0m\u001b[1;34m'matplotlib'\u001b[0m\u001b[1;33m,\u001b[0m \u001b[1;34m'notebook'\u001b[0m\u001b[1;33m)\u001b[0m\u001b[1;33m\u001b[0m\u001b[1;33m\u001b[0m\u001b[0m\n\u001b[0;32m      7\u001b[0m \u001b[1;33m\u001b[0m\u001b[0m\n\u001b[1;32m----> 8\u001b[1;33m \u001b[0mmpl\u001b[0m\u001b[1;33m.\u001b[0m\u001b[0muse\u001b[0m\u001b[1;33m(\u001b[0m\u001b[1;34m'TkAgg'\u001b[0m\u001b[1;33m)\u001b[0m\u001b[1;33m\u001b[0m\u001b[1;33m\u001b[0m\u001b[0m\n\u001b[0m\u001b[0;32m      9\u001b[0m \u001b[0mmu\u001b[0m \u001b[1;33m=\u001b[0m \u001b[1;36m0\u001b[0m\u001b[1;33m\u001b[0m\u001b[1;33m\u001b[0m\u001b[0m\n\u001b[0;32m     10\u001b[0m \u001b[0mstd\u001b[0m \u001b[1;33m=\u001b[0m \u001b[1;36m1\u001b[0m\u001b[1;33m\u001b[0m\u001b[1;33m\u001b[0m\u001b[0m\n",
      "\u001b[1;31mNameError\u001b[0m: name 'mpl' is not defined"
     ]
    }
   ],
   "source": [
    "import numpy as np\n",
    "import matplotlib.pyplot as plt\n",
    "import scipy.stats as stats\n",
    "import tkinter\n",
    "\n",
    "%matplotlib notebook\n",
    "\n",
    "mpl.use('TkAgg')\n",
    "mu = 0\n",
    "std = 1\n",
    "x = np.linspace(start=-4, stop=4, num=100)\n",
    "y = stats.norm.pdf(x, mu, std) \n",
    "plt.plot(x, y)\n",
    "plt.show()"
   ]
  },
  {
   "cell_type": "code",
   "execution_count": null,
   "metadata": {},
   "outputs": [],
   "source": []
  }
 ],
 "metadata": {
  "kernelspec": {
   "display_name": "Python 3",
   "language": "python",
   "name": "python3"
  },
  "language_info": {
   "codemirror_mode": {
    "name": "ipython",
    "version": 3
   },
   "file_extension": ".py",
   "mimetype": "text/x-python",
   "name": "python",
   "nbconvert_exporter": "python",
   "pygments_lexer": "ipython3",
   "version": "3.9.0"
  }
 },
 "nbformat": 4,
 "nbformat_minor": 4
}
