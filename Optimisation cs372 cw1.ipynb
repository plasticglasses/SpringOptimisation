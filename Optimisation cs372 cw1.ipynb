{
 "cells": [
  {
   "cell_type": "code",
   "execution_count": 54,
   "metadata": {},
   "outputs": [],
   "source": [
    "import numpy as np\n",
    "import matplotlib as mpl"
   ]
  },
  {
   "cell_type": "code",
   "execution_count": 55,
   "metadata": {},
   "outputs": [],
   "source": [
    "# Question 1\n",
    "#: the diameter of the wire (x0), \n",
    "#the mean of the diameter of coil(x1)\n",
    "#and the number of active coils (x2)"
   ]
  },
  {
   "cell_type": "code",
   "execution_count": 56,
   "metadata": {},
   "outputs": [],
   "source": [
    "arr_X = np.array([1, 2, 3])"
   ]
  },
  {
   "cell_type": "code",
   "execution_count": null,
   "metadata": {},
   "outputs": [],
   "source": []
  },
  {
   "cell_type": "code",
   "execution_count": 57,
   "metadata": {},
   "outputs": [],
   "source": [
    "#implementation of f(x)"
   ]
  },
  {
   "cell_type": "code",
   "execution_count": 73,
   "metadata": {},
   "outputs": [],
   "source": [
    "def f(x, fCount=[0]):\n",
    "    print(int(x[0] ** 2)*x[1]*(2 + x[2]))\n",
    "    fCount[0]+=1\n",
    "    return (fCount[0])"
   ]
  },
  {
   "cell_type": "code",
   "execution_count": 74,
   "metadata": {},
   "outputs": [
    {
     "name": "stdout",
     "output_type": "stream",
     "text": [
      "10\n"
     ]
    },
    {
     "ename": "TypeError",
     "evalue": "'int' object is not subscriptable",
     "output_type": "error",
     "traceback": [
      "\u001b[1;31m---------------------------------------------------------------------------\u001b[0m",
      "\u001b[1;31mTypeError\u001b[0m                                 Traceback (most recent call last)",
      "\u001b[1;32m<ipython-input-74-91681854dc93>\u001b[0m in \u001b[0;36m<module>\u001b[1;34m\u001b[0m\n\u001b[1;32m----> 1\u001b[1;33m \u001b[0mprint\u001b[0m\u001b[1;33m(\u001b[0m\u001b[0mf\u001b[0m\u001b[1;33m(\u001b[0m\u001b[0marr_X\u001b[0m\u001b[1;33m)\u001b[0m\u001b[1;33m[\u001b[0m\u001b[1;36m0\u001b[0m\u001b[1;33m]\u001b[0m\u001b[1;33m)\u001b[0m\u001b[1;33m\u001b[0m\u001b[1;33m\u001b[0m\u001b[0m\n\u001b[0m\u001b[0;32m      2\u001b[0m \u001b[0mprint\u001b[0m\u001b[1;33m(\u001b[0m\u001b[0mf\u001b[0m\u001b[1;33m(\u001b[0m\u001b[0marr_X\u001b[0m\u001b[1;33m)\u001b[0m\u001b[1;33m[\u001b[0m\u001b[1;36m1\u001b[0m\u001b[1;33m]\u001b[0m\u001b[1;33m)\u001b[0m\u001b[1;33m\u001b[0m\u001b[1;33m\u001b[0m\u001b[0m\n\u001b[0;32m      3\u001b[0m \u001b[0mprint\u001b[0m\u001b[1;33m(\u001b[0m\u001b[0mf\u001b[0m\u001b[1;33m(\u001b[0m\u001b[0marr_X\u001b[0m\u001b[1;33m)\u001b[0m\u001b[1;33m)\u001b[0m\u001b[1;33m\u001b[0m\u001b[1;33m\u001b[0m\u001b[0m\n",
      "\u001b[1;31mTypeError\u001b[0m: 'int' object is not subscriptable"
     ]
    }
   ],
   "source": [
    "print(f(arr_X))\n",
    "print(f(arr_X)[1])\n",
    "print(f(arr_X))"
   ]
  },
  {
   "cell_type": "code",
   "execution_count": 60,
   "metadata": {},
   "outputs": [],
   "source": [
    "#implementation of g1(x)"
   ]
  },
  {
   "cell_type": "code",
   "execution_count": 61,
   "metadata": {},
   "outputs": [],
   "source": [
    "def g1(x, g1Count=[0]):\n",
    "    g1Count[0]+=1\n",
    "    fun = float(1 - (((x[1]**3)*x[2])/71785*(x[0]**4)))\n",
    "    if ( fun <= 0) :\n",
    "        return [True, g1Count[0]]\n",
    "    else:\n",
    "        return [False, g1Count[0]]\n",
    "    \n",
    "    "
   ]
  },
  {
   "cell_type": "code",
   "execution_count": 62,
   "metadata": {},
   "outputs": [
    {
     "name": "stdout",
     "output_type": "stream",
     "text": [
      "[False, 1]\n",
      "[False, 2]\n",
      "[False, 3]\n"
     ]
    }
   ],
   "source": [
    "print (g1(arr_X))\n",
    "print (g1(arr_X))\n",
    "print (g1(arr_X))"
   ]
  },
  {
   "cell_type": "code",
   "execution_count": 63,
   "metadata": {},
   "outputs": [],
   "source": [
    "#implementation of g2(x)"
   ]
  },
  {
   "cell_type": "code",
   "execution_count": 64,
   "metadata": {},
   "outputs": [
    {
     "ename": "IndentationError",
     "evalue": "expected an indented block (<ipython-input-64-2da449554f0a>, line 6)",
     "output_type": "error",
     "traceback": [
      "\u001b[1;36m  File \u001b[1;32m\"<ipython-input-64-2da449554f0a>\"\u001b[1;36m, line \u001b[1;32m6\u001b[0m\n\u001b[1;33m    return (g2Count[0])\u001b[0m\n\u001b[1;37m    ^\u001b[0m\n\u001b[1;31mIndentationError\u001b[0m\u001b[1;31m:\u001b[0m expected an indented block\n"
     ]
    }
   ],
   "source": [
    "def g2(x, g2Count=[0]):\n",
    "    fun = (   (((4*x[1]**2) - (x[0]*x[1]))/(12566*((x[1]*(x[0]**3))-(x[0]**4)))) + (1/(5108*(x[0]**2)))  - 1 )\n",
    "    g2Count[0]+=1\n",
    "    if fun <= 0:\n",
    "        return[True, g2Count[0]]\n",
    "    else:\n",
    "        return[False, g2Count[0]]"
   ]
  },
  {
   "cell_type": "code",
   "execution_count": 65,
   "metadata": {},
   "outputs": [
    {
     "name": "stdout",
     "output_type": "stream",
     "text": [
      "-0.9986901112011118\n",
      "4\n",
      "-0.9986901112011118\n",
      "5\n",
      "-0.9986901112011118\n",
      "6\n"
     ]
    }
   ],
   "source": [
    "print (g2(arr_X))\n",
    "print (g2(arr_X))\n",
    "print (g2(arr_X))"
   ]
  },
  {
   "cell_type": "code",
   "execution_count": 66,
   "metadata": {},
   "outputs": [],
   "source": [
    "def g3(x, g3Count=[0]):\n",
    "    fun = (1 - (140.45*x[0])/((x[1]**2)*x[2]))\n",
    "    g3Count[0]+=1\n",
    "    if fun <= 0:   \n",
    "        return[True, g3Count[0]]\n",
    "    else:\n",
    "        return[False, g3Count[0]]\n",
    "  "
   ]
  },
  {
   "cell_type": "code",
   "execution_count": 67,
   "metadata": {},
   "outputs": [
    {
     "name": "stdout",
     "output_type": "stream",
     "text": [
      "-10.704166666666666\n",
      "1\n",
      "-10.704166666666666\n",
      "2\n",
      "-10.704166666666666\n",
      "3\n"
     ]
    }
   ],
   "source": [
    "print (g3(arr_X))\n",
    "print (g3(arr_X))\n",
    "print (g3(arr_X))"
   ]
  },
  {
   "cell_type": "code",
   "execution_count": 68,
   "metadata": {},
   "outputs": [],
   "source": [
    "def g4(x, g4Count=[0]):\n",
    "    fun = (  ((x[0] + x[1])/1.5)-1  )\n",
    "    g4Count[0]+=1\n",
    "    if fun <= 0:   \n",
    "        return[True, g4Count[0]]\n",
    "    else:\n",
    "        return[False, g4Count[0]]"
   ]
  },
  {
   "cell_type": "code",
   "execution_count": 69,
   "metadata": {},
   "outputs": [
    {
     "name": "stdout",
     "output_type": "stream",
     "text": [
      "1.0\n",
      "1\n",
      "1.0\n",
      "2\n",
      "1.0\n",
      "3\n"
     ]
    }
   ],
   "source": [
    "print (g4(arr_X))\n",
    "print (g4(arr_X))\n",
    "print (g4(arr_X))"
   ]
  },
  {
   "cell_type": "code",
   "execution_count": 70,
   "metadata": {},
   "outputs": [],
   "source": [
    "#Question 2"
   ]
  },
  {
   "cell_type": "code",
   "execution_count": 71,
   "metadata": {},
   "outputs": [],
   "source": [
    "wire_lower = 0.005 #lower bound for diameter of the wire\n",
    "wire_upper = 2 #upper bound for diameter of the wire\n",
    "\n",
    "coil_lower = 0.25 #lower bound for diameter of coil\n",
    "coil_upper = 1.3 #upper bound for diameter of the coil\n",
    "\n",
    "coil_num_lower = 2 #lower bound for number of active coils\n",
    "coil_num_upper = 15 #upper bound for number of active coils"
   ]
  },
  {
   "cell_type": "code",
   "execution_count": 72,
   "metadata": {},
   "outputs": [],
   "source": [
    "def randomSearch(function, max_iter, lower_bound, upper_bound, fargs=()):\n",
    "    points_to_evaluate = np.random.uniform(low=lower_bound,\n",
    "                                         high=upper_bound,\n",
    "                                         size=(max_iter, len(lower_bound)))\n",
    "    results = np.array([function(point, *fargs) \n",
    "               for point in points_to_evaluate])\n",
    "    best_ind = np.argmin(results)\n",
    "    return points_to_evaluate[best_ind], results[best_ind]\n",
    "    "
   ]
  },
  {
   "cell_type": "code",
   "execution_count": null,
   "metadata": {},
   "outputs": [],
   "source": []
  }
 ],
 "metadata": {
  "kernelspec": {
   "display_name": "Python 3",
   "language": "python",
   "name": "python3"
  },
  "language_info": {
   "codemirror_mode": {
    "name": "ipython",
    "version": 3
   },
   "file_extension": ".py",
   "mimetype": "text/x-python",
   "name": "python",
   "nbconvert_exporter": "python",
   "pygments_lexer": "ipython3",
   "version": "3.9.0"
  }
 },
 "nbformat": 4,
 "nbformat_minor": 4
}
